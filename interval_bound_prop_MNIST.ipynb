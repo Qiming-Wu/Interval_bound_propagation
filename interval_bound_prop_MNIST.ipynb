{
 "cells": [
  {
   "cell_type": "code",
   "execution_count": null,
   "metadata": {
    "colab": {},
    "colab_type": "code",
    "id": "UoK0sWEypQ-s"
   },
   "outputs": [],
   "source": [
    "#%matplotlib inline\n",
    "%reload_ext autoreload\n",
    "%autoreload 2"
   ]
  },
  {
   "cell_type": "code",
   "execution_count": null,
   "metadata": {
    "colab": {},
    "colab_type": "code",
    "id": "Osqh5JlNpQ-2"
   },
   "outputs": [],
   "source": [
    "import torch\n",
    "import torch.nn as nn\n",
    "import torch.optim as optim\n",
    "from torchvision import datasets, transforms\n",
    "from torch.utils.data import DataLoader\n",
    "import torch.utils.data as data_utils\n",
    "from utils import epoch, epoch_robust_bound, epoch_calculate_robust_err, Flatten, generate_kappa_schedule_MNIST, generate_epsilon_schedule_MNIST"
   ]
  },
  {
   "cell_type": "code",
   "execution_count": null,
   "metadata": {
    "colab": {
     "base_uri": "https://localhost:8080/",
     "height": 34
    },
    "colab_type": "code",
    "id": "jMEAJ22NpQ-9",
    "outputId": "57aee563-2fa9-4ec6-b92e-665334f0826b"
   },
   "outputs": [],
   "source": [
    "device = torch.device(\"cuda:0\" if torch.cuda.is_available() else \"cpu\")\n",
    "torch.manual_seed(0)"
   ]
  },
  {
   "cell_type": "code",
   "execution_count": null,
   "metadata": {
    "colab": {
     "base_uri": "https://localhost:8080/",
     "height": 119
    },
    "colab_type": "code",
    "id": "NrjnhpiupQ_J",
    "outputId": "13754aab-8f99-4301-dbe4-558c8452b61e"
   },
   "outputs": [],
   "source": [
    "mnist_train = datasets.MNIST(\"./\", train=True, download=True, transform=transforms.ToTensor())"
   ]
  },
  {
   "cell_type": "code",
   "execution_count": null,
   "metadata": {
    "colab": {},
    "colab_type": "code",
    "id": "EfYDUvW6pQ_O"
   },
   "outputs": [],
   "source": [
    "mnist_test = datasets.MNIST(\"./\", train=False, download=True, transform=transforms.ToTensor())"
   ]
  },
  {
   "cell_type": "code",
   "execution_count": null,
   "metadata": {
    "colab": {},
    "colab_type": "code",
    "id": "9T0xV1qupQ_W"
   },
   "outputs": [],
   "source": [
    "train_loader = DataLoader(mnist_train, batch_size = 100, shuffle=True)\n",
    "test_loader = DataLoader(mnist_test, batch_size = 100, shuffle=False)"
   ]
  },
  {
   "cell_type": "markdown",
   "metadata": {
    "colab_type": "text",
    "id": "8CJe2L46pQ_z"
   },
   "source": [
    "# Models"
   ]
  },
  {
   "cell_type": "code",
   "execution_count": null,
   "metadata": {
    "colab": {},
    "colab_type": "code",
    "id": "xyVMZBD8pQ_1"
   },
   "outputs": [],
   "source": [
    "model_cnn_medium = nn.Sequential(nn.Conv2d(1, 32, 3, padding=0, stride=1), nn.ReLU(),\n",
    "                                   nn.Conv2d(32, 32, 4, padding=0, stride=2), nn.ReLU(),\n",
    "                                   nn.Conv2d(32, 64, 3, padding=0, stride=1), nn.ReLU(),\n",
    "                                   nn.Conv2d(64, 64, 4, padding=0, stride=2), nn.ReLU(),\n",
    "                                   Flatten(),\n",
    "                                   nn.Linear(64*4*4, 512), nn.ReLU(),\n",
    "                                   nn.Linear(512, 512), nn.ReLU(),\n",
    "                                   nn.Linear(512, 10)).to(device)"
   ]
  },
  {
   "cell_type": "code",
   "execution_count": null,
   "metadata": {},
   "outputs": [],
   "source": [
    "model_cnn_small = nn.Sequential(nn.Conv2d(1, 16, 4, padding=0, stride=2), nn.ReLU(),\n",
    "                                   nn.Conv2d(16, 32, 4, padding=0, stride=1), nn.ReLU(),\n",
    "                                   Flatten(),\n",
    "                                   nn.Linear(32*10*10, 100), nn.ReLU(),\n",
    "                                   nn.Linear(100, 10)).to(device)"
   ]
  },
  {
   "cell_type": "markdown",
   "metadata": {
    "colab_type": "text",
    "id": "KBRQTG-zpQ_3"
   },
   "source": [
    "# Training"
   ]
  },
  {
   "cell_type": "code",
   "execution_count": null,
   "metadata": {
    "colab": {
     "base_uri": "https://localhost:8080/",
     "height": 1649
    },
    "colab_type": "code",
    "id": "QgFHqVWQpQ_4",
    "outputId": "5c3db75b-72b4-4c0a-be92-26626a8be652"
   },
   "outputs": [],
   "source": [
    "opt = optim.Adam(model_cnn_medium.parameters(), lr=1e-3)\n",
    "\n",
    "EPSILON = 0.1\n",
    "EPSILON_TRAIN = 0.2\n",
    "epsilon_schedule = generate_epsilon_schedule_MNIST(EPSILON_TRAIN)\n",
    "kappa_schedule = generate_kappa_schedule_MNIST()\n",
    "batch_counter = 0\n",
    "\n",
    "print(\"Epoch   \", \"Combined Loss\", \"Test Err\", \"Test Robust Err\", sep=\"\\t\")\n",
    "\n",
    "for t in range(100):\n",
    "    _, combined_loss = epoch_robust_bound(train_loader, model_cnn_medium, epsilon_schedule, device, kappa_schedule, batch_counter, opt)\n",
    "    \n",
    "    # check loss and accuracy on test set\n",
    "    test_err, _ = epoch(test_loader, model_cnn_medium, device)\n",
    "    robust_err = epoch_calculate_robust_err(test_loader, model_cnn_medium, EPSILON, device)\n",
    "    \n",
    "    batch_counter += 600\n",
    "    \n",
    "    if t == 24:  #decrease learning rate after 25 epochs\n",
    "        for param_group in opt.param_groups:\n",
    "            param_group[\"lr\"] = 1e-4\n",
    "    \n",
    "    if t == 40:  #decrease learning rate after 41 epochs\n",
    "        for param_group in opt.param_groups:\n",
    "            param_group[\"lr\"] = 1e-5\n",
    "    \n",
    "    print(*(\"{:.6f}\".format(i) for i in (t, combined_loss, test_err, robust_err)), sep=\"\\t\")"
   ]
  },
  {
   "cell_type": "code",
   "execution_count": null,
   "metadata": {
    "colab": {},
    "colab_type": "code",
    "id": "EIsnzpCfpQ_8"
   },
   "outputs": [],
   "source": []
  }
 ],
 "metadata": {
  "accelerator": "GPU",
  "colab": {
   "collapsed_sections": [],
   "name": "interval_bound_prop.ipynb",
   "provenance": [],
   "version": "0.3.2"
  },
  "kernelspec": {
   "display_name": "Python 3",
   "language": "python",
   "name": "python3"
  },
  "language_info": {
   "codemirror_mode": {
    "name": "ipython",
    "version": 3
   },
   "file_extension": ".py",
   "mimetype": "text/x-python",
   "name": "python",
   "nbconvert_exporter": "python",
   "pygments_lexer": "ipython3",
   "version": "3.6.4"
  }
 },
 "nbformat": 4,
 "nbformat_minor": 1
}
