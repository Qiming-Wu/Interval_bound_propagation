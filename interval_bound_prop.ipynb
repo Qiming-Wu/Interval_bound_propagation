{
 "cells": [
  {
   "cell_type": "code",
   "execution_count": 0,
   "metadata": {
    "colab": {},
    "colab_type": "code",
    "id": "UoK0sWEypQ-s"
   },
   "outputs": [],
   "source": [
    "#%matplotlib inline\n",
    "%reload_ext autoreload\n",
    "%autoreload 2"
   ]
  },
  {
   "cell_type": "code",
   "execution_count": 0,
   "metadata": {
    "colab": {},
    "colab_type": "code",
    "id": "Osqh5JlNpQ-2"
   },
   "outputs": [],
   "source": [
    "import torch\n",
    "import torch.nn as nn\n",
    "import torch.optim as optim\n",
    "from torchvision import datasets, transforms\n",
    "from torch.utils.data import DataLoader\n",
    "import torch.utils.data as data_utils\n",
    "from utils import epoch, epoch_robust_bound, Flatten"
   ]
  },
  {
   "cell_type": "code",
   "execution_count": 4,
   "metadata": {
    "colab": {
     "base_uri": "https://localhost:8080/",
     "height": 34
    },
    "colab_type": "code",
    "id": "jMEAJ22NpQ-9",
    "outputId": "57aee563-2fa9-4ec6-b92e-665334f0826b"
   },
   "outputs": [
    {
     "data": {
      "text/plain": [
       "<torch._C.Generator at 0x7f0580e35270>"
      ]
     },
     "execution_count": 4,
     "metadata": {
      "tags": []
     },
     "output_type": "execute_result"
    }
   ],
   "source": [
    "device = torch.device(\"cuda:0\" if torch.cuda.is_available() else \"cpu\")\n",
    "torch.manual_seed(0)"
   ]
  },
  {
   "cell_type": "code",
   "execution_count": 5,
   "metadata": {
    "colab": {
     "base_uri": "https://localhost:8080/",
     "height": 119
    },
    "colab_type": "code",
    "id": "NrjnhpiupQ_J",
    "outputId": "13754aab-8f99-4301-dbe4-558c8452b61e"
   },
   "outputs": [
    {
     "name": "stdout",
     "output_type": "stream",
     "text": [
      "Downloading http://yann.lecun.com/exdb/mnist/train-images-idx3-ubyte.gz\n",
      "Downloading http://yann.lecun.com/exdb/mnist/train-labels-idx1-ubyte.gz\n",
      "Downloading http://yann.lecun.com/exdb/mnist/t10k-images-idx3-ubyte.gz\n",
      "Downloading http://yann.lecun.com/exdb/mnist/t10k-labels-idx1-ubyte.gz\n",
      "Processing...\n",
      "Done!\n"
     ]
    }
   ],
   "source": [
    "mnist_train = datasets.MNIST(\"./\", train=True, download=True, transform=transforms.ToTensor())"
   ]
  },
  {
   "cell_type": "code",
   "execution_count": 0,
   "metadata": {
    "colab": {},
    "colab_type": "code",
    "id": "EfYDUvW6pQ_O"
   },
   "outputs": [],
   "source": [
    "mnist_test = datasets.MNIST(\"./\", train=False, download=True, transform=transforms.ToTensor())"
   ]
  },
  {
   "cell_type": "code",
   "execution_count": 0,
   "metadata": {
    "colab": {},
    "colab_type": "code",
    "id": "9T0xV1qupQ_W"
   },
   "outputs": [],
   "source": [
    "train_loader = DataLoader(mnist_train, batch_size = 100, shuffle=True)\n",
    "test_loader = DataLoader(mnist_test, batch_size = 100, shuffle=False)"
   ]
  },
  {
   "cell_type": "markdown",
   "metadata": {
    "colab_type": "text",
    "id": "8CJe2L46pQ_z"
   },
   "source": [
    "# Model"
   ]
  },
  {
   "cell_type": "code",
   "execution_count": 0,
   "metadata": {
    "colab": {},
    "colab_type": "code",
    "id": "xyVMZBD8pQ_1"
   },
   "outputs": [],
   "source": [
    "model_cnn_medium = nn.Sequential(nn.Conv2d(1, 32, 3, padding=0, stride=1), nn.ReLU(),\n",
    "                                   nn.Conv2d(32, 32, 4, padding=0, stride=2), nn.ReLU(),\n",
    "                                   nn.Conv2d(32, 64, 3, padding=0, stride=1), nn.ReLU(),\n",
    "                                   nn.Conv2d(64, 64, 4, padding=0, stride=2), nn.ReLU(),\n",
    "                                   Flatten(),\n",
    "                                   nn.Linear(64*4*4, 512), nn.ReLU(),\n",
    "                                   nn.Linear(512, 512), nn.ReLU(),\n",
    "                                   nn.Linear(512, 10)).to(device)"
   ]
  },
  {
   "cell_type": "markdown",
   "metadata": {
    "colab_type": "text",
    "id": "KBRQTG-zpQ_3"
   },
   "source": [
    "# Training"
   ]
  },
  {
   "cell_type": "code",
   "execution_count": 0,
   "metadata": {
    "colab": {
     "base_uri": "https://localhost:8080/",
     "height": 1649
    },
    "colab_type": "code",
    "id": "QgFHqVWQpQ_4",
    "outputId": "5c3db75b-72b4-4c0a-be92-26626a8be652"
   },
   "outputs": [
    {
     "name": "stdout",
     "output_type": "stream",
     "text": [
      "Epsilon   \tRobust Loss\tTest Err\tTest Robust Err\n",
      "0.000000\t0.200056\t0.017300\t1.000000\n",
      "0.010000\t3425.416996\t0.014600\t1.000000\n",
      "0.030000\t16847.909989\t0.013600\t1.000000\n",
      "0.040000\t97.369732\t0.047600\t1.000000\n",
      "0.050000\t7.203265\t0.033300\t1.000000\n",
      "0.060000\t3.029905\t0.029500\t0.997600\n",
      "0.070000\t1.907495\t0.028400\t0.975300\n",
      "0.080000\t1.501102\t0.026600\t0.710500\n",
      "0.090000\t1.264801\t0.025600\t0.320300\n",
      "0.100000\t1.121258\t0.025100\t0.252200\n",
      "0.110000\t1.027579\t0.024200\t0.190700\n",
      "0.120000\t0.961214\t0.024100\t0.158100\n",
      "0.130000\t0.913403\t0.023300\t0.139500\n",
      "0.140000\t0.880165\t0.024600\t0.122400\n",
      "0.150000\t0.856929\t0.024500\t0.102600\n",
      "0.160000\t0.818503\t0.025200\t0.099900\n",
      "0.170000\t0.803045\t0.025500\t0.093400\n",
      "0.180000\t0.786592\t0.025800\t0.083700\n",
      "0.190000\t0.784770\t0.026200\t0.082800\n",
      "0.200000\t0.779713\t0.026700\t0.071700\n",
      "0.200000\t0.722564\t0.025500\t0.075200\n",
      "0.200000\t0.684360\t0.024600\t0.066400\n",
      "0.200000\t0.651361\t0.025100\t0.066500\n",
      "0.200000\t0.625512\t0.024500\t0.065300\n",
      "0.200000\t0.603710\t0.024400\t0.061600\n",
      "0.200000\t0.586140\t0.024900\t0.062600\n",
      "0.200000\t0.498830\t0.023800\t0.056000\n",
      "0.200000\t0.481271\t0.023800\t0.055400\n",
      "0.200000\t0.477665\t0.024000\t0.055500\n",
      "0.200000\t0.473992\t0.023900\t0.054900\n",
      "0.200000\t0.471385\t0.023700\t0.055600\n",
      "0.200000\t0.467777\t0.023700\t0.055800\n",
      "0.200000\t0.464865\t0.024100\t0.055700\n",
      "0.200000\t0.461722\t0.023900\t0.055400\n",
      "0.200000\t0.458553\t0.023900\t0.055100\n",
      "0.200000\t0.455669\t0.023600\t0.055400\n",
      "0.200000\t0.453371\t0.024100\t0.055000\n",
      "0.200000\t0.449437\t0.024200\t0.055100\n",
      "0.200000\t0.446382\t0.023800\t0.055200\n",
      "0.200000\t0.443711\t0.023900\t0.055100\n",
      "0.200000\t0.440941\t0.024100\t0.055200\n",
      "0.200000\t0.437780\t0.024300\t0.054600\n",
      "0.200000\t0.430054\t0.024400\t0.054200\n",
      "0.200000\t0.427850\t0.024300\t0.054000\n",
      "0.200000\t0.427029\t0.024400\t0.053900\n",
      "0.200000\t0.426406\t0.024600\t0.054100\n",
      "0.200000\t0.425896\t0.024400\t0.054100\n",
      "0.200000\t0.425232\t0.024200\t0.054000\n",
      "0.200000\t0.424818\t0.024400\t0.053900\n",
      "0.200000\t0.424174\t0.024400\t0.054000\n",
      "0.200000\t0.423630\t0.024200\t0.054100\n",
      "0.200000\t0.423010\t0.024300\t0.054200\n",
      "0.200000\t0.422467\t0.024400\t0.054100\n",
      "0.200000\t0.421883\t0.024300\t0.054000\n",
      "0.200000\t0.421283\t0.024500\t0.054200\n",
      "0.200000\t0.420581\t0.024400\t0.054000\n",
      "0.200000\t0.419940\t0.024300\t0.054100\n",
      "0.200000\t0.419352\t0.024200\t0.054100\n",
      "0.200000\t0.418643\t0.024200\t0.054200\n",
      "0.200000\t0.418010\t0.024400\t0.054300\n",
      "0.200000\t0.417308\t0.024300\t0.054400\n",
      "0.200000\t0.416623\t0.024500\t0.054300\n",
      "0.200000\t0.415855\t0.024400\t0.054400\n",
      "0.200000\t0.415178\t0.024300\t0.054300\n",
      "0.200000\t0.414555\t0.024300\t0.054500\n",
      "0.200000\t0.413808\t0.024300\t0.054500\n",
      "0.200000\t0.413121\t0.024400\t0.054200\n",
      "0.200000\t0.412410\t0.024300\t0.054300\n",
      "0.200000\t0.411689\t0.024400\t0.054300\n",
      "0.200000\t0.410969\t0.024300\t0.054400\n",
      "0.200000\t0.410245\t0.024300\t0.054600\n",
      "0.200000\t0.409612\t0.024300\t0.054700\n",
      "0.200000\t0.408881\t0.024300\t0.054500\n",
      "0.200000\t0.408160\t0.024400\t0.054600\n",
      "0.200000\t0.407434\t0.024400\t0.054500\n",
      "0.200000\t0.406731\t0.024400\t0.054500\n",
      "0.200000\t0.406069\t0.024600\t0.054500\n",
      "0.200000\t0.405416\t0.024600\t0.054600\n",
      "0.200000\t0.404671\t0.024600\t0.054700\n",
      "0.200000\t0.404029\t0.024700\t0.054700\n",
      "0.200000\t0.403360\t0.024900\t0.054600\n",
      "0.200000\t0.402676\t0.025000\t0.054500\n",
      "0.200000\t0.402043\t0.025000\t0.054300\n",
      "0.200000\t0.401315\t0.025100\t0.054400\n",
      "0.200000\t0.400654\t0.025200\t0.054500\n",
      "0.200000\t0.399969\t0.025100\t0.054300\n",
      "0.200000\t0.399384\t0.025100\t0.054200\n",
      "0.200000\t0.398718\t0.025100\t0.054300\n",
      "0.200000\t0.398058\t0.025200\t0.054000\n",
      "0.200000\t0.397419\t0.025300\t0.054200\n",
      "0.200000\t0.396798\t0.025300\t0.054300\n",
      "0.200000\t0.396217\t0.025300\t0.054000\n",
      "0.200000\t0.395583\t0.025400\t0.054000\n",
      "0.200000\t0.395001\t0.025400\t0.054100\n",
      "0.200000\t0.394385\t0.025400\t0.054000\n"
     ]
    }
   ],
   "source": [
    "opt = optim.Adam(model_cnn_medium.parameters(), lr=1e-3)\n",
    "EPSILON = 0.1\n",
    "EPSILON_TRAIN = 0.2\n",
    "epsilon_schedule = [0.0, 0.01, 0.03, 0.04, 0.05, 0.06, 0.07, 0.08, 0.09, 0.1, 0.11, 0.12, 0.13, 0.14, 0.15, 0.16, 0.17, 0.18, 0.19, 0.2] + 80*[EPSILON_TRAIN]\n",
    "kappa_schedule = 2*[1]\n",
    "for i in range(98): kappa_schedule.append(1-0.005*i) \n",
    "\n",
    "print(\"Epsilon   \", \"Robust Loss\", \"Test Err\", \"Test Robust Err\", sep=\"\\t\")\n",
    "for t in range(len(epsilon_schedule)):\n",
    "    _, robust_loss = epoch_robust_bound(train_loader, model_cnn_medium, epsilon_schedule[t], device, kappa_schedule[t], opt)\n",
    "    \n",
    "    # check loss and accuracy on test set\n",
    "    test_err, test_loss = epoch(test_loader, model_cnn_medium, device)\n",
    "    adv_err, adv_loss = epoch_robust_bound(test_loader, model_cnn_medium, EPSILON, device, kappa_schedule[t])\n",
    "    \n",
    "    \n",
    "    if t == 25:  #decrease learning rate after 25 epochs\n",
    "      for param_group in opt.param_groups:\n",
    "        param_group[\"lr\"] = 1e-4\n",
    "    \n",
    "    if t == 41:  #decrease learning rate after 41 epochs\n",
    "      for param_group in opt.param_groups:\n",
    "        param_group[\"lr\"] = 1e-5\n",
    "    \n",
    "    print(*(\"{:.6f}\".format(i) for i in (epsilon_schedule[t], robust_loss, test_err, adv_err)), sep=\"\\t\")"
   ]
  },
  {
   "cell_type": "code",
   "execution_count": 0,
   "metadata": {
    "colab": {},
    "colab_type": "code",
    "id": "EIsnzpCfpQ_8"
   },
   "outputs": [],
   "source": []
  }
 ],
 "metadata": {
  "accelerator": "GPU",
  "colab": {
   "collapsed_sections": [],
   "name": "interval_bound_prop.ipynb",
   "provenance": [],
   "version": "0.3.2"
  },
  "kernelspec": {
   "display_name": "Python 3",
   "language": "python",
   "name": "python3"
  },
  "language_info": {
   "codemirror_mode": {
    "name": "ipython",
    "version": 3
   },
   "file_extension": ".py",
   "mimetype": "text/x-python",
   "name": "python",
   "nbconvert_exporter": "python",
   "pygments_lexer": "ipython3",
   "version": "3.7.2"
  }
 },
 "nbformat": 4,
 "nbformat_minor": 1
}
